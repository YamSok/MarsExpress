{
 "cells": [
  {
   "cell_type": "markdown",
   "metadata": {
    "cell_id": "00000-0216cf56-3817-4911-b636-9cf9e068b9fa"
   },
   "source": [
    "# Notebook expérimental\n",
    "## Mars Express Data Driven Digital Twin\n",
    "---"
   ]
  },
  {
   "cell_type": "markdown",
   "metadata": {},
   "source": [
    "\n",
    "Problème principal : \"Kernel died\" **au moment du sort by date** à cause de la RAM si on prend **l'année martienne entière** (~ 2008-2010) ce qui correspond au tri d'environ **3 millions de lignes**\n",
    "\n",
    "Pour les mêmes raisons de limite de RAM on effectue nos prédictions que sur une seule des 33 variables *power*\n",
    "\n",
    "*Note : On s'y prend peut être mal pour la partie interpolation. On veut d'abord interpoler/échantillonner tout le monde sur le niveau le plus fin pour ensuite appliquer notre filtre de sous-échantillonage que l'on veut (par h, par 30min ...)*\n",
    "\n",
    "---\n",
    "D'après nos tests sur la limite de RAM de nos pc on a pu voir que :\n",
    "* Avec 4 mois de données seulement, on obtient des résultats aberrants avec une régression linéaire, comme on te l'a expliqué par mail \n",
    "* Avec 1 année terrestre (quasi limite pour la RAM) on a quelque chose de plus sympa, on retrouve effectivement les effets de périodicité que tu as cité dans le mail, invisibles sur 4 mois.\n",
    "---\n",
    "\n"
   ]
  },
  {
   "cell_type": "code",
   "execution_count": 1,
   "metadata": {
    "cell_id": "00001-6923c759-9e89-4dfe-9739-98c473769d29",
    "execution_millis": 3550,
    "execution_start": 1604400039323,
    "output_cleared": false,
    "source_hash": "b21b048f"
   },
   "outputs": [],
   "source": [
    "import pandas as pd\n",
    "import numpy as np\n",
    "import matplotlib.pyplot as plt\n",
    "import glob\n",
    "from sklearn.preprocessing import StandardScaler\n",
    "from sklearn.model_selection import train_test_split\n",
    "from tensorflow import keras\n",
    "from tensorflow.keras import models, layers, initializers"
   ]
  },
  {
   "cell_type": "code",
   "execution_count": 2,
   "metadata": {
    "cell_id": "00002-a2178c7c-39a6-4bcd-8174-a31800934739",
    "execution_millis": 2,
    "execution_start": 1604400042875,
    "output_cleared": false,
    "source_hash": "a1588d27"
   },
   "outputs": [],
   "source": [
    "TRAIN_FOLDER = \"../data_MEX/train_set/\"\n",
    "TEST_FOLDER = \"../data_MEX/test_set/\""
   ]
  },
  {
   "cell_type": "code",
   "execution_count": 41,
   "metadata": {
    "cell_id": "00003-a7b9ecb8-ec3f-4176-8168-fc8addb4d7ee",
    "execution_millis": 3,
    "execution_start": 1604400901127,
    "output_cleared": false,
    "source_hash": "f2b1e0d1"
   },
   "outputs": [],
   "source": [
    "\n",
    "def import_file(file_name, file_type):\n",
    "    data = pd.read_csv(file_name, sep=\",\", index_col=0) # index -> ut_ms\n",
    "    data.index = pd.to_datetime(data.index, unit='ms') # ut_ms -> datetime\n",
    "\n",
    "    if file_type == \"dmop\":\n",
    "        data['commande'] = data.apply(lambda x : x['subsystem'][:4], axis=1)\n",
    "        #data['len'] = data.apply(lambda x : len(x['subsystem'].split(\".\")), axis=1)\n",
    "        data = pd.get_dummies(data[[\"commande\"]]) #One Hot Encoding (naïf)\n",
    "        data = data.resample('60min').pad()\n",
    "\n",
    "    elif file_type == \"ftl\":\n",
    "        data = pd.get_dummies(data[[\"type\", \"flagcomms\"]]) #One Hot Encoding (naïf)\n",
    "        data[\"flagcomms\"] = data[\"flagcomms\"].astype(int) # Passer les true/false en 1/0\n",
    "        data = data.resample('60min').pad()\n",
    "    else:\n",
    "        data = data.resample('60min').mean()\n",
    "    return data\n",
    "\n",
    "\n",
    "## import de la première année d'une classe de variables quantitative (saaf, ltdata)\n",
    "def import_all_files(folder, file_types, verbose):\n",
    "    \n",
    "    \"\"\"\n",
    "    Import all files for one martian year and apply specific preprocessing regarding variable types in the file.\n",
    "    Return a list of DataFrames\n",
    "    \"\"\"\n",
    "    \n",
    "    df_list = []\n",
    "    for file_type in file_types:\n",
    "        print('Importing', file_type, \"data ...\") if verbose else 0\n",
    "        query = f\"{folder}*{file_type}*\"\n",
    "        file_name_list = glob.glob(query) \n",
    "        if len(file_name_list) > 1 :\n",
    "            file_name_list_sorted = np.sort(file_name_list)\n",
    "            df_3years = []\n",
    "            for file_name in file_name_list_sorted:\n",
    "                print('>', file_name) if verbose else 0\n",
    "                data = import_file(file_name, file_type)\n",
    "                df_3years.append(data)\n",
    "\n",
    "            data = pd.concat(df_3years)\n",
    "        else : \n",
    "            file_name = file_name_list[0]\n",
    "            print('>', file_name) if verbose else 0\n",
    "            data = import_file(file_name, file_type)\n",
    "        df_list.append(data)\n",
    "        print(\"Done.\") if verbose else 0\n",
    "\n",
    "    return df_list\n",
    "    \n",
    "\n",
    "def interpolate(df_list, verbose):\n",
    "    \"\"\"\n",
    "    Concatenate a list of DataFrames, sort by date and interpolate (linearly or pad interpolation.\n",
    "    \"\"\"\n",
    "    \n",
    "    print(\"Concatenating ...\") if verbose else 0\n",
    "    combined = pd.concat(df_list, axis=1, sort=False)\n",
    "    print(f\"-> Concatenate done, {len(combined)} rows.\\n Sort by date ...\")if verbose else 0\n",
    "    #combined = combined.sort_values(\"date\").reset_index(drop=True)\n",
    "    print(\"-> Sort done\")if verbose else 0\n",
    "    col = list(combined.columns)\n",
    "    print(\"Interpolating ...\")if verbose else 0\n",
    "    for c in col:\n",
    "        if c.split('_')[0] == \"type\" or c == \"flagcomms\" or c == \"commande\" : #categorical data\n",
    "            combined[c] = combined[c].interpolate(method=\"ffill\")\n",
    "        else : #quantitative data\n",
    "            combined[c] = combined[c].interpolate(method=\"linear\")\n",
    "    print(\"Data interpolated\")if verbose else 0\n",
    "    print(\"Traitement des NaN\")if verbose else 0\n",
    "    combined = combined.fillna(method =\"bfill\")\n",
    "    combined.dropna(inplace=True)\n",
    "    print(\"Done.\")if verbose else 0\n",
    "\n",
    "    return combined\n",
    "\n",
    "def generate_data(train_folder, test_folder, verbose):\n",
    "    \n",
    "    file_types = [\"saaf\", \"dmop\", \"ltdata\", \"ftl\"]\n",
    "    \n",
    "    print(\"@@@@@@\"*4) if verbose else 0\n",
    "    print(\"Creating train dataset\") if verbose else 0\n",
    "    print(\"@@@@@@\"*4) if verbose else 0\n",
    "    df_list_train = import_all(train_folder, [\"power\"] + file_types, verbose)\n",
    "    print(\"@@@@@@\"*4) if verbose else 0\n",
    "    print(\"Creating test dataset\") if verbose else 0\n",
    "    print(\"@@@@@@\"*4) if verbose else 0\n",
    "    df_list_test = import_all(test_folder, file_types, verbose)\n",
    "    \n",
    "    print(\"@@@@@@\"*4) if verbose else 0\n",
    "    print(\"Interpolating train dataset\") if verbose else 0\n",
    "    print(\"@@@@@@\"*4) if verbose else 0\n",
    "    train = interpolate(df_list_train, verbose) \n",
    "    print(\"@@@@@@\"*4) if verbose else 0\n",
    "    print(\"Interpolating test dataset\") if verbose else 0\n",
    "    print(\"@@@@@@\"*4) if verbose else 0\n",
    "    test = interpolate(df_list_test, verbose)\n",
    "    \n",
    "    to_del_test = np.setdiff1d(test.columns, train.columns[33:])\n",
    "    to_del_train = np.setdiff1d(train.columns[33:],test.columns)\n",
    "    test.drop(to_del_test, inplace=True, axis=1)\n",
    "    train.drop(to_del_train, inplace=True, axis=1)\n",
    "    return train, test\n",
    "\n",
    "def import_data():\n",
    "    train = pd.read_pickle('train.p')\n",
    "    test = pd.read_pickle('test.p')\n",
    "    return train, test\n",
    "    \n",
    "def generate_train_data():\n",
    "    train, test = import_data()\n",
    "\n",
    "    power_ids = train.columns[train.columns.str.match(\"NPWD\")]\n",
    "    X = train.copy()\n",
    "    X.drop(list(power_ids), inplace = True, axis = 1) # drop power\n",
    "    print(np.shape(X))\n",
    "    y = train.copy()[list(power_ids)]\n",
    "    print(np.shape(y))\n",
    "    X_train, X_test, y_train, y_test = train_test_split(X, y, test_size=0.2,random_state=42)\n",
    "\n",
    "    return X_train, X_test, y_train, y_test\n",
    "\n"
   ]
  },
  {
   "cell_type": "code",
   "execution_count": 25,
   "metadata": {
    "collapsed": true,
    "jupyter": {
     "outputs_hidden": true
    }
   },
   "outputs": [
    {
     "name": "stdout",
     "output_type": "stream",
     "text": [
      "@@@@@@@@@@@@@@@@@@@@@@@@\n",
      "Creating train dataset\n",
      "@@@@@@@@@@@@@@@@@@@@@@@@\n",
      "Importing power data ...\n",
      "> ../data_MEX/train_set/power--2008-08-22_2010-07-10.csv\n",
      "> ../data_MEX/train_set/power--2010-07-10_2012-05-27.csv\n",
      "> ../data_MEX/train_set/power--2012-05-27_2014-04-14.csv\n",
      "Done.\n",
      "Importing saaf data ...\n",
      "> ../data_MEX/train_set/context--2008-08-22_2010-07-10--saaf.csv\n",
      "> ../data_MEX/train_set/context--2010-07-10_2012-05-27--saaf.csv\n",
      "> ../data_MEX/train_set/context--2012-05-27_2014-04-14--saaf.csv\n",
      "Done.\n",
      "Importing dmop data ...\n",
      "> ../data_MEX/train_set/context--2008-08-22_2010-07-10--dmop.csv\n",
      "> ../data_MEX/train_set/context--2010-07-10_2012-05-27--dmop.csv\n",
      "> ../data_MEX/train_set/context--2012-05-27_2014-04-14--dmop.csv\n",
      "Done.\n",
      "Importing ltdata data ...\n",
      "> ../data_MEX/train_set/context--2008-08-22_2010-07-10--ltdata.csv\n",
      "> ../data_MEX/train_set/context--2010-07-10_2012-05-27--ltdata.csv\n",
      "> ../data_MEX/train_set/context--2012-05-27_2014-04-14--ltdata.csv\n",
      "Done.\n",
      "Importing ftl data ...\n",
      "> ../data_MEX/train_set/context--2008-08-22_2010-07-10--ftl.csv\n",
      "> ../data_MEX/train_set/context--2010-07-10_2012-05-27--ftl.csv\n",
      "> ../data_MEX/train_set/context--2012-05-27_2014-04-14--ftl.csv\n",
      "Done.\n",
      "@@@@@@@@@@@@@@@@@@@@@@@@\n",
      "Creating test dataset\n",
      "@@@@@@@@@@@@@@@@@@@@@@@@\n",
      "Importing saaf data ...\n",
      "> ../data_MEX/test_set/context--2014-04-14_2016-03-01--saaf.csv\n",
      "Done.\n",
      "Importing dmop data ...\n",
      "> ../data_MEX/test_set/context--2014-04-14_2016-03-01--dmop.csv\n",
      "Done.\n",
      "Importing ltdata data ...\n",
      "> ../data_MEX/test_set/context--2014-04-14_2016-03-01--ltdata.csv\n",
      "Done.\n",
      "Importing ftl data ...\n",
      "> ../data_MEX/test_set/context--2014-04-14_2016-03-01--ftl.csv\n",
      "Done.\n",
      "@@@@@@@@@@@@@@@@@@@@@@@@\n",
      "Interpolating train dataset\n",
      "@@@@@@@@@@@@@@@@@@@@@@@@\n",
      "Concatenating ...\n",
      "-> Concatenate done, 49464 rows.\n",
      " Sort by date ...\n",
      "-> Sort done\n",
      "Interpolating ...\n",
      "Data interpolated\n",
      "Traitement des NaN\n",
      "Done.\n",
      "@@@@@@@@@@@@@@@@@@@@@@@@\n",
      "Interpolating test dataset\n",
      "@@@@@@@@@@@@@@@@@@@@@@@@\n",
      "Concatenating ...\n",
      "-> Concatenate done, 16488 rows.\n",
      " Sort by date ...\n",
      "-> Sort done\n",
      "Interpolating ...\n",
      "Data interpolated\n",
      "Traitement des NaN\n",
      "Done.\n"
     ]
    }
   ],
   "source": [
    "verbose = True\n",
    "train, test = generate_data(TRAIN_FOLDER, TEST_FOLDER, verbose)"
   ]
  },
  {
   "cell_type": "code",
   "execution_count": 42,
   "metadata": {
    "cell_id": "00011-eba0bc4d-77d6-41a8-aa6b-70a681f9fabe",
    "execution_millis": 8,
    "execution_start": 1604401340880,
    "output_cleared": false,
    "source_hash": "7fc2b863"
   },
   "outputs": [
    {
     "name": "stdout",
     "output_type": "stream",
     "text": [
      "(49464, 51)\n",
      "(49464, 33)\n"
     ]
    }
   ],
   "source": [
    "X_train, X_test, y_train, y_test = generate_train_data()\n"
   ]
  },
  {
   "cell_type": "code",
   "execution_count": 43,
   "metadata": {},
   "outputs": [
    {
     "name": "stdout",
     "output_type": "stream",
     "text": [
      "(39571, 51)\n",
      "(9893, 51)\n",
      "(39571, 33)\n",
      "(9893, 33)\n"
     ]
    }
   ],
   "source": [
    "print(np.shape(X_train))\n",
    "print(np.shape(X_test))\n",
    "print(np.shape(y_train))\n",
    "print(np.shape(y_test))"
   ]
  },
  {
   "cell_type": "code",
   "execution_count": 47,
   "metadata": {
    "cell_id": "00021-461cbfe0-568b-43ac-af09-a3d55a1f566c",
    "execution_millis": 0,
    "execution_start": 1604401033319,
    "output_cleared": false,
    "source_hash": "464386bc"
   },
   "outputs": [],
   "source": [
    "from sklearn.linear_model import LinearRegression\n",
    "import seaborn as sns\n",
    "\n",
    "reg = LinearRegression().fit(X_train, y_train)\n",
    "predict = reg.predict(X_test)\n"
   ]
  },
  {
   "cell_type": "code",
   "execution_count": 56,
   "metadata": {},
   "outputs": [],
   "source": [
    "y = y_test.iloc[:,0]"
   ]
  },
  {
   "cell_type": "code",
   "execution_count": 54,
   "metadata": {},
   "outputs": [],
   "source": [
    "y_hat = predict[:,0]"
   ]
  },
  {
   "cell_type": "code",
   "execution_count": 67,
   "metadata": {},
   "outputs": [
    {
     "data": {
      "text/html": [
       "<div>\n",
       "<style scoped>\n",
       "    .dataframe tbody tr th:only-of-type {\n",
       "        vertical-align: middle;\n",
       "    }\n",
       "\n",
       "    .dataframe tbody tr th {\n",
       "        vertical-align: top;\n",
       "    }\n",
       "\n",
       "    .dataframe thead th {\n",
       "        text-align: right;\n",
       "    }\n",
       "</style>\n",
       "<table border=\"1\" class=\"dataframe\">\n",
       "  <thead>\n",
       "    <tr style=\"text-align: right;\">\n",
       "      <th></th>\n",
       "      <th>NPWD2372</th>\n",
       "      <th>NPWD2401</th>\n",
       "      <th>NPWD2402</th>\n",
       "      <th>NPWD2451</th>\n",
       "      <th>NPWD2471</th>\n",
       "      <th>NPWD2472</th>\n",
       "      <th>NPWD2481</th>\n",
       "      <th>NPWD2482</th>\n",
       "      <th>NPWD2491</th>\n",
       "      <th>NPWD2501</th>\n",
       "      <th>...</th>\n",
       "      <th>NPWD2792</th>\n",
       "      <th>NPWD2801</th>\n",
       "      <th>NPWD2802</th>\n",
       "      <th>NPWD2821</th>\n",
       "      <th>NPWD2851</th>\n",
       "      <th>NPWD2852</th>\n",
       "      <th>NPWD2871</th>\n",
       "      <th>NPWD2872</th>\n",
       "      <th>NPWD2881</th>\n",
       "      <th>NPWD2882</th>\n",
       "    </tr>\n",
       "    <tr>\n",
       "      <th>ut_ms</th>\n",
       "      <th></th>\n",
       "      <th></th>\n",
       "      <th></th>\n",
       "      <th></th>\n",
       "      <th></th>\n",
       "      <th></th>\n",
       "      <th></th>\n",
       "      <th></th>\n",
       "      <th></th>\n",
       "      <th></th>\n",
       "      <th></th>\n",
       "      <th></th>\n",
       "      <th></th>\n",
       "      <th></th>\n",
       "      <th></th>\n",
       "      <th></th>\n",
       "      <th></th>\n",
       "      <th></th>\n",
       "      <th></th>\n",
       "      <th></th>\n",
       "      <th></th>\n",
       "    </tr>\n",
       "  </thead>\n",
       "  <tbody>\n",
       "    <tr>\n",
       "      <th>2011-11-09 17:00:00</th>\n",
       "      <td>0.248850</td>\n",
       "      <td>2.345617</td>\n",
       "      <td>0.002225</td>\n",
       "      <td>0.534470</td>\n",
       "      <td>0.026746</td>\n",
       "      <td>0.195428</td>\n",
       "      <td>0.488021</td>\n",
       "      <td>2.140953</td>\n",
       "      <td>0.026992</td>\n",
       "      <td>0.026688</td>\n",
       "      <td>...</td>\n",
       "      <td>0.042015</td>\n",
       "      <td>0.034207</td>\n",
       "      <td>0.162269</td>\n",
       "      <td>0.034487</td>\n",
       "      <td>0.356963</td>\n",
       "      <td>0.034930</td>\n",
       "      <td>0.036207</td>\n",
       "      <td>0.034112</td>\n",
       "      <td>1.566477</td>\n",
       "      <td>0.036796</td>\n",
       "    </tr>\n",
       "    <tr>\n",
       "      <th>2009-05-16 05:00:00</th>\n",
       "      <td>0.223043</td>\n",
       "      <td>0.038954</td>\n",
       "      <td>0.003137</td>\n",
       "      <td>0.149089</td>\n",
       "      <td>0.032129</td>\n",
       "      <td>0.307178</td>\n",
       "      <td>4.342755</td>\n",
       "      <td>0.015948</td>\n",
       "      <td>0.025283</td>\n",
       "      <td>0.089090</td>\n",
       "      <td>...</td>\n",
       "      <td>0.200602</td>\n",
       "      <td>0.020174</td>\n",
       "      <td>1.277014</td>\n",
       "      <td>0.009831</td>\n",
       "      <td>1.105098</td>\n",
       "      <td>0.036038</td>\n",
       "      <td>0.033932</td>\n",
       "      <td>0.023696</td>\n",
       "      <td>7.717030</td>\n",
       "      <td>0.017127</td>\n",
       "    </tr>\n",
       "    <tr>\n",
       "      <th>2013-08-02 13:00:00</th>\n",
       "      <td>0.077735</td>\n",
       "      <td>1.131355</td>\n",
       "      <td>0.000906</td>\n",
       "      <td>0.255767</td>\n",
       "      <td>0.009197</td>\n",
       "      <td>0.095349</td>\n",
       "      <td>20.440091</td>\n",
       "      <td>0.954436</td>\n",
       "      <td>0.071235</td>\n",
       "      <td>0.071344</td>\n",
       "      <td>...</td>\n",
       "      <td>0.294387</td>\n",
       "      <td>0.007671</td>\n",
       "      <td>0.259643</td>\n",
       "      <td>0.008012</td>\n",
       "      <td>0.127003</td>\n",
       "      <td>0.009600</td>\n",
       "      <td>0.000497</td>\n",
       "      <td>0.009024</td>\n",
       "      <td>0.455702</td>\n",
       "      <td>0.003722</td>\n",
       "    </tr>\n",
       "    <tr>\n",
       "      <th>2010-07-17 06:00:00</th>\n",
       "      <td>0.034019</td>\n",
       "      <td>0.378947</td>\n",
       "      <td>0.002431</td>\n",
       "      <td>1.059197</td>\n",
       "      <td>0.009934</td>\n",
       "      <td>0.560659</td>\n",
       "      <td>0.060172</td>\n",
       "      <td>0.332891</td>\n",
       "      <td>0.187113</td>\n",
       "      <td>0.008798</td>\n",
       "      <td>...</td>\n",
       "      <td>0.512585</td>\n",
       "      <td>0.004411</td>\n",
       "      <td>2.537974</td>\n",
       "      <td>0.005192</td>\n",
       "      <td>0.315289</td>\n",
       "      <td>0.027231</td>\n",
       "      <td>0.047195</td>\n",
       "      <td>0.013215</td>\n",
       "      <td>0.785028</td>\n",
       "      <td>0.013321</td>\n",
       "    </tr>\n",
       "    <tr>\n",
       "      <th>2009-10-23 20:00:00</th>\n",
       "      <td>0.274103</td>\n",
       "      <td>0.947298</td>\n",
       "      <td>0.000720</td>\n",
       "      <td>0.197153</td>\n",
       "      <td>0.015605</td>\n",
       "      <td>0.406755</td>\n",
       "      <td>5.818445</td>\n",
       "      <td>0.798112</td>\n",
       "      <td>0.090211</td>\n",
       "      <td>0.019074</td>\n",
       "      <td>...</td>\n",
       "      <td>0.255985</td>\n",
       "      <td>0.005658</td>\n",
       "      <td>0.518537</td>\n",
       "      <td>0.006723</td>\n",
       "      <td>0.227449</td>\n",
       "      <td>0.011090</td>\n",
       "      <td>0.014959</td>\n",
       "      <td>0.013206</td>\n",
       "      <td>0.805063</td>\n",
       "      <td>0.001161</td>\n",
       "    </tr>\n",
       "    <tr>\n",
       "      <th>...</th>\n",
       "      <td>...</td>\n",
       "      <td>...</td>\n",
       "      <td>...</td>\n",
       "      <td>...</td>\n",
       "      <td>...</td>\n",
       "      <td>...</td>\n",
       "      <td>...</td>\n",
       "      <td>...</td>\n",
       "      <td>...</td>\n",
       "      <td>...</td>\n",
       "      <td>...</td>\n",
       "      <td>...</td>\n",
       "      <td>...</td>\n",
       "      <td>...</td>\n",
       "      <td>...</td>\n",
       "      <td>...</td>\n",
       "      <td>...</td>\n",
       "      <td>...</td>\n",
       "      <td>...</td>\n",
       "      <td>...</td>\n",
       "      <td>...</td>\n",
       "    </tr>\n",
       "    <tr>\n",
       "      <th>2013-07-10 19:00:00</th>\n",
       "      <td>0.143741</td>\n",
       "      <td>1.404163</td>\n",
       "      <td>0.003453</td>\n",
       "      <td>0.058083</td>\n",
       "      <td>0.006244</td>\n",
       "      <td>0.284254</td>\n",
       "      <td>6.808926</td>\n",
       "      <td>1.147211</td>\n",
       "      <td>0.200843</td>\n",
       "      <td>0.122611</td>\n",
       "      <td>...</td>\n",
       "      <td>0.243037</td>\n",
       "      <td>0.002031</td>\n",
       "      <td>0.301341</td>\n",
       "      <td>0.002765</td>\n",
       "      <td>0.255317</td>\n",
       "      <td>0.029528</td>\n",
       "      <td>0.018247</td>\n",
       "      <td>0.023410</td>\n",
       "      <td>1.671742</td>\n",
       "      <td>0.008624</td>\n",
       "    </tr>\n",
       "    <tr>\n",
       "      <th>2008-11-26 19:00:00</th>\n",
       "      <td>0.020387</td>\n",
       "      <td>0.346457</td>\n",
       "      <td>0.003344</td>\n",
       "      <td>0.401725</td>\n",
       "      <td>0.012255</td>\n",
       "      <td>0.741768</td>\n",
       "      <td>7.780981</td>\n",
       "      <td>0.368500</td>\n",
       "      <td>0.069624</td>\n",
       "      <td>0.049417</td>\n",
       "      <td>...</td>\n",
       "      <td>0.593524</td>\n",
       "      <td>0.000392</td>\n",
       "      <td>0.119126</td>\n",
       "      <td>0.015020</td>\n",
       "      <td>37.733364</td>\n",
       "      <td>0.019608</td>\n",
       "      <td>0.010601</td>\n",
       "      <td>0.023823</td>\n",
       "      <td>1.767008</td>\n",
       "      <td>0.015417</td>\n",
       "    </tr>\n",
       "    <tr>\n",
       "      <th>2014-03-08 00:00:00</th>\n",
       "      <td>0.304758</td>\n",
       "      <td>0.212143</td>\n",
       "      <td>0.005011</td>\n",
       "      <td>0.027397</td>\n",
       "      <td>0.011807</td>\n",
       "      <td>0.560742</td>\n",
       "      <td>4.020503</td>\n",
       "      <td>0.139788</td>\n",
       "      <td>0.287096</td>\n",
       "      <td>0.021579</td>\n",
       "      <td>...</td>\n",
       "      <td>0.208813</td>\n",
       "      <td>0.017559</td>\n",
       "      <td>0.498411</td>\n",
       "      <td>0.015089</td>\n",
       "      <td>0.002989</td>\n",
       "      <td>0.037099</td>\n",
       "      <td>0.018039</td>\n",
       "      <td>0.027261</td>\n",
       "      <td>0.109573</td>\n",
       "      <td>0.021179</td>\n",
       "    </tr>\n",
       "    <tr>\n",
       "      <th>2013-12-14 15:00:00</th>\n",
       "      <td>0.007638</td>\n",
       "      <td>1.026519</td>\n",
       "      <td>0.001727</td>\n",
       "      <td>0.085768</td>\n",
       "      <td>0.010894</td>\n",
       "      <td>0.026417</td>\n",
       "      <td>3.770698</td>\n",
       "      <td>0.852667</td>\n",
       "      <td>0.014626</td>\n",
       "      <td>0.037444</td>\n",
       "      <td>...</td>\n",
       "      <td>0.209240</td>\n",
       "      <td>0.018258</td>\n",
       "      <td>0.542948</td>\n",
       "      <td>0.019652</td>\n",
       "      <td>0.277257</td>\n",
       "      <td>0.001295</td>\n",
       "      <td>0.000429</td>\n",
       "      <td>0.013087</td>\n",
       "      <td>6.528185</td>\n",
       "      <td>0.009171</td>\n",
       "    </tr>\n",
       "    <tr>\n",
       "      <th>2012-04-24 05:00:00</th>\n",
       "      <td>0.081092</td>\n",
       "      <td>0.023030</td>\n",
       "      <td>0.000661</td>\n",
       "      <td>0.328996</td>\n",
       "      <td>0.015322</td>\n",
       "      <td>0.173247</td>\n",
       "      <td>9.067393</td>\n",
       "      <td>0.058935</td>\n",
       "      <td>0.150983</td>\n",
       "      <td>0.066958</td>\n",
       "      <td>...</td>\n",
       "      <td>0.101191</td>\n",
       "      <td>0.002269</td>\n",
       "      <td>0.083733</td>\n",
       "      <td>0.004301</td>\n",
       "      <td>0.212087</td>\n",
       "      <td>0.011737</td>\n",
       "      <td>0.004127</td>\n",
       "      <td>0.002708</td>\n",
       "      <td>3.290195</td>\n",
       "      <td>0.009236</td>\n",
       "    </tr>\n",
       "  </tbody>\n",
       "</table>\n",
       "<p>9893 rows × 33 columns</p>\n",
       "</div>"
      ],
      "text/plain": [
       "                     NPWD2372  NPWD2401  NPWD2402  NPWD2451  NPWD2471  \\\n",
       "ut_ms                                                                   \n",
       "2011-11-09 17:00:00  0.248850  2.345617  0.002225  0.534470  0.026746   \n",
       "2009-05-16 05:00:00  0.223043  0.038954  0.003137  0.149089  0.032129   \n",
       "2013-08-02 13:00:00  0.077735  1.131355  0.000906  0.255767  0.009197   \n",
       "2010-07-17 06:00:00  0.034019  0.378947  0.002431  1.059197  0.009934   \n",
       "2009-10-23 20:00:00  0.274103  0.947298  0.000720  0.197153  0.015605   \n",
       "...                       ...       ...       ...       ...       ...   \n",
       "2013-07-10 19:00:00  0.143741  1.404163  0.003453  0.058083  0.006244   \n",
       "2008-11-26 19:00:00  0.020387  0.346457  0.003344  0.401725  0.012255   \n",
       "2014-03-08 00:00:00  0.304758  0.212143  0.005011  0.027397  0.011807   \n",
       "2013-12-14 15:00:00  0.007638  1.026519  0.001727  0.085768  0.010894   \n",
       "2012-04-24 05:00:00  0.081092  0.023030  0.000661  0.328996  0.015322   \n",
       "\n",
       "                     NPWD2472   NPWD2481  NPWD2482  NPWD2491  NPWD2501  ...  \\\n",
       "ut_ms                                                                   ...   \n",
       "2011-11-09 17:00:00  0.195428   0.488021  2.140953  0.026992  0.026688  ...   \n",
       "2009-05-16 05:00:00  0.307178   4.342755  0.015948  0.025283  0.089090  ...   \n",
       "2013-08-02 13:00:00  0.095349  20.440091  0.954436  0.071235  0.071344  ...   \n",
       "2010-07-17 06:00:00  0.560659   0.060172  0.332891  0.187113  0.008798  ...   \n",
       "2009-10-23 20:00:00  0.406755   5.818445  0.798112  0.090211  0.019074  ...   \n",
       "...                       ...        ...       ...       ...       ...  ...   \n",
       "2013-07-10 19:00:00  0.284254   6.808926  1.147211  0.200843  0.122611  ...   \n",
       "2008-11-26 19:00:00  0.741768   7.780981  0.368500  0.069624  0.049417  ...   \n",
       "2014-03-08 00:00:00  0.560742   4.020503  0.139788  0.287096  0.021579  ...   \n",
       "2013-12-14 15:00:00  0.026417   3.770698  0.852667  0.014626  0.037444  ...   \n",
       "2012-04-24 05:00:00  0.173247   9.067393  0.058935  0.150983  0.066958  ...   \n",
       "\n",
       "                     NPWD2792  NPWD2801  NPWD2802  NPWD2821   NPWD2851  \\\n",
       "ut_ms                                                                    \n",
       "2011-11-09 17:00:00  0.042015  0.034207  0.162269  0.034487   0.356963   \n",
       "2009-05-16 05:00:00  0.200602  0.020174  1.277014  0.009831   1.105098   \n",
       "2013-08-02 13:00:00  0.294387  0.007671  0.259643  0.008012   0.127003   \n",
       "2010-07-17 06:00:00  0.512585  0.004411  2.537974  0.005192   0.315289   \n",
       "2009-10-23 20:00:00  0.255985  0.005658  0.518537  0.006723   0.227449   \n",
       "...                       ...       ...       ...       ...        ...   \n",
       "2013-07-10 19:00:00  0.243037  0.002031  0.301341  0.002765   0.255317   \n",
       "2008-11-26 19:00:00  0.593524  0.000392  0.119126  0.015020  37.733364   \n",
       "2014-03-08 00:00:00  0.208813  0.017559  0.498411  0.015089   0.002989   \n",
       "2013-12-14 15:00:00  0.209240  0.018258  0.542948  0.019652   0.277257   \n",
       "2012-04-24 05:00:00  0.101191  0.002269  0.083733  0.004301   0.212087   \n",
       "\n",
       "                     NPWD2852  NPWD2871  NPWD2872  NPWD2881  NPWD2882  \n",
       "ut_ms                                                                  \n",
       "2011-11-09 17:00:00  0.034930  0.036207  0.034112  1.566477  0.036796  \n",
       "2009-05-16 05:00:00  0.036038  0.033932  0.023696  7.717030  0.017127  \n",
       "2013-08-02 13:00:00  0.009600  0.000497  0.009024  0.455702  0.003722  \n",
       "2010-07-17 06:00:00  0.027231  0.047195  0.013215  0.785028  0.013321  \n",
       "2009-10-23 20:00:00  0.011090  0.014959  0.013206  0.805063  0.001161  \n",
       "...                       ...       ...       ...       ...       ...  \n",
       "2013-07-10 19:00:00  0.029528  0.018247  0.023410  1.671742  0.008624  \n",
       "2008-11-26 19:00:00  0.019608  0.010601  0.023823  1.767008  0.015417  \n",
       "2014-03-08 00:00:00  0.037099  0.018039  0.027261  0.109573  0.021179  \n",
       "2013-12-14 15:00:00  0.001295  0.000429  0.013087  6.528185  0.009171  \n",
       "2012-04-24 05:00:00  0.011737  0.004127  0.002708  3.290195  0.009236  \n",
       "\n",
       "[9893 rows x 33 columns]"
      ]
     },
     "execution_count": 67,
     "metadata": {},
     "output_type": "execute_result"
    }
   ],
   "source": [
    "np.abs(y_test-predict)/y_test)"
   ]
  },
  {
   "cell_type": "code",
   "execution_count": 46,
   "metadata": {},
   "outputs": [
    {
     "name": "stderr",
     "output_type": "stream",
     "text": [
      "<ipython-input-46-dc5832ea14d9>:1: FutureWarning: Support for multi-dimensional indexing (e.g. `obj[:, None]`) is deprecated and will be removed in a future version.  Convert to a numpy array before indexing instead.\n",
      "  X_train.columns[np.argsort(-reg.coef_)]\n"
     ]
    },
    {
     "data": {
      "text/plain": [
       "array([['commande_APSF', 'commande_MOCS', 'commande_PENS', ...,\n",
       "        'type_D2PLND', 'type_D8PLTP', 'type_D7PLTS'],\n",
       "       ['type_D1PVMC', 'type_D3POCM', 'type_D8PLTP', ...,\n",
       "        'commande_MOCS', 'commande_PENE', 'commande_PENS'],\n",
       "       ['commande_PDNE', 'type_D2PLND', 'type_D9PSPO', ...,\n",
       "        'type_D8PLTP', 'type_INERTIAL', 'commande_PPNE'],\n",
       "       ...,\n",
       "       ['commande_PDNE', 'type_D7PLTS', 'commande_AVVV', ...,\n",
       "        'commande_PPNE', 'type_D4PNPO', 'type_D1PVMC'],\n",
       "       ['commande_ATTT', 'commande_SCMN', 'type_D9PSPO', ...,\n",
       "        'type_D2PLND', 'type_ACROSS_TRACK', 'type_D3POCM'],\n",
       "       ['commande_PDNE', 'type_D7PLTS', 'type_D8PLTP', ...,\n",
       "        'type_D4PNPO', 'type_WARMUP', 'type_D1PVMC']], dtype=object)"
      ]
     },
     "execution_count": 46,
     "metadata": {},
     "output_type": "execute_result"
    }
   ],
   "source": [
    "# X_train.columns[np.argsort(-reg.coef_)]"
   ]
  },
  {
   "cell_type": "code",
   "execution_count": 213,
   "metadata": {},
   "outputs": [
    {
     "data": {
      "text/plain": [
       "array([<AxesSubplot:xlabel='ut_ms'>, <AxesSubplot:xlabel='ut_ms'>,\n",
       "       <AxesSubplot:xlabel='ut_ms'>, <AxesSubplot:xlabel='ut_ms'>],\n",
       "      dtype=object)"
      ]
     },
     "execution_count": 213,
     "metadata": {},
     "output_type": "execute_result"
    },
    {
     "data": {
      "image/png": "[encoded data removed]",
      "text/plain": [
       "<Figure size 432x288 with 4 Axes>"
      ]
     },
     "metadata": {
      "needs_background": "light"
     },
     "output_type": "display_data"
    }
   ],
   "source": [
    "data[['type_SPECULAR', 'commande_PENS', 'type_WARMUP', 'type_EARTH',]].plot(subplots=True)"
   ]
  },
  {
   "cell_type": "code",
   "execution_count": 23,
   "metadata": {},
   "outputs": [
    {
     "ename": "ValueError",
     "evalue": "regplot inputs must be 1d",
     "output_type": "error",
     "traceback": [
      "\u001b[0;31m---------------------------------------------------------------------------\u001b[0m",
      "\u001b[0;31mValueError\u001b[0m                                Traceback (most recent call last)",
      "\u001b[0;32m<ipython-input-23-5c516aab4095>\u001b[0m in \u001b[0;36m<module>\u001b[0;34m\u001b[0m\n\u001b[0;32m----> 1\u001b[0;31m \u001b[0msns\u001b[0m\u001b[0;34m.\u001b[0m\u001b[0mregplot\u001b[0m\u001b[0;34m(\u001b[0m\u001b[0my_test\u001b[0m\u001b[0;34m,\u001b[0m\u001b[0mpredict\u001b[0m\u001b[0;34m)\u001b[0m\u001b[0;34m\u001b[0m\u001b[0;34m\u001b[0m\u001b[0m\n\u001b[0m",
      "\u001b[0;32m~/.local/lib/python3.8/site-packages/seaborn/regression.py\u001b[0m in \u001b[0;36mregplot\u001b[0;34m(x, y, data, x_estimator, x_bins, x_ci, scatter, fit_reg, ci, n_boot, units, seed, order, logistic, lowess, robust, logx, x_partial, y_partial, truncate, dropna, x_jitter, y_jitter, label, color, marker, scatter_kws, line_kws, ax)\u001b[0m\n\u001b[1;32m    803\u001b[0m             scatter_kws=None, line_kws=None, ax=None):\n\u001b[1;32m    804\u001b[0m \u001b[0;34m\u001b[0m\u001b[0m\n\u001b[0;32m--> 805\u001b[0;31m     plotter = _RegressionPlotter(x, y, data, x_estimator, x_bins, x_ci,\n\u001b[0m\u001b[1;32m    806\u001b[0m                                  \u001b[0mscatter\u001b[0m\u001b[0;34m,\u001b[0m \u001b[0mfit_reg\u001b[0m\u001b[0;34m,\u001b[0m \u001b[0mci\u001b[0m\u001b[0;34m,\u001b[0m \u001b[0mn_boot\u001b[0m\u001b[0;34m,\u001b[0m \u001b[0munits\u001b[0m\u001b[0;34m,\u001b[0m \u001b[0mseed\u001b[0m\u001b[0;34m,\u001b[0m\u001b[0;34m\u001b[0m\u001b[0;34m\u001b[0m\u001b[0m\n\u001b[1;32m    807\u001b[0m                                  \u001b[0morder\u001b[0m\u001b[0;34m,\u001b[0m \u001b[0mlogistic\u001b[0m\u001b[0;34m,\u001b[0m \u001b[0mlowess\u001b[0m\u001b[0;34m,\u001b[0m \u001b[0mrobust\u001b[0m\u001b[0;34m,\u001b[0m \u001b[0mlogx\u001b[0m\u001b[0;34m,\u001b[0m\u001b[0;34m\u001b[0m\u001b[0;34m\u001b[0m\u001b[0m\n",
      "\u001b[0;32m~/.local/lib/python3.8/site-packages/seaborn/regression.py\u001b[0m in \u001b[0;36m__init__\u001b[0;34m(self, x, y, data, x_estimator, x_bins, x_ci, scatter, fit_reg, ci, n_boot, units, seed, order, logistic, lowess, robust, logx, x_partial, y_partial, truncate, dropna, x_jitter, y_jitter, color, label)\u001b[0m\n\u001b[1;32m    106\u001b[0m \u001b[0;34m\u001b[0m\u001b[0m\n\u001b[1;32m    107\u001b[0m         \u001b[0;31m# Extract the data vals from the arguments or passed dataframe\u001b[0m\u001b[0;34m\u001b[0m\u001b[0;34m\u001b[0m\u001b[0;34m\u001b[0m\u001b[0m\n\u001b[0;32m--> 108\u001b[0;31m         self.establish_variables(data, x=x, y=y, units=units,\n\u001b[0m\u001b[1;32m    109\u001b[0m                                  x_partial=x_partial, y_partial=y_partial)\n\u001b[1;32m    110\u001b[0m \u001b[0;34m\u001b[0m\u001b[0m\n",
      "\u001b[0;32m~/.local/lib/python3.8/site-packages/seaborn/regression.py\u001b[0m in \u001b[0;36mestablish_variables\u001b[0;34m(self, data, **kws)\u001b[0m\n\u001b[1;32m     52\u001b[0m             \u001b[0;32mif\u001b[0m \u001b[0mnp\u001b[0m\u001b[0;34m.\u001b[0m\u001b[0mndim\u001b[0m\u001b[0;34m(\u001b[0m\u001b[0mvector\u001b[0m\u001b[0;34m)\u001b[0m \u001b[0;34m>\u001b[0m \u001b[0;36m1\u001b[0m\u001b[0;34m:\u001b[0m\u001b[0;34m\u001b[0m\u001b[0;34m\u001b[0m\u001b[0m\n\u001b[1;32m     53\u001b[0m                 \u001b[0merr\u001b[0m \u001b[0;34m=\u001b[0m \u001b[0;34m\"regplot inputs must be 1d\"\u001b[0m\u001b[0;34m\u001b[0m\u001b[0;34m\u001b[0m\u001b[0m\n\u001b[0;32m---> 54\u001b[0;31m                 \u001b[0;32mraise\u001b[0m \u001b[0mValueError\u001b[0m\u001b[0;34m(\u001b[0m\u001b[0merr\u001b[0m\u001b[0;34m)\u001b[0m\u001b[0;34m\u001b[0m\u001b[0;34m\u001b[0m\u001b[0m\n\u001b[0m\u001b[1;32m     55\u001b[0m             \u001b[0msetattr\u001b[0m\u001b[0;34m(\u001b[0m\u001b[0mself\u001b[0m\u001b[0;34m,\u001b[0m \u001b[0mvar\u001b[0m\u001b[0;34m,\u001b[0m \u001b[0mvector\u001b[0m\u001b[0;34m)\u001b[0m\u001b[0;34m\u001b[0m\u001b[0;34m\u001b[0m\u001b[0m\n\u001b[1;32m     56\u001b[0m \u001b[0;34m\u001b[0m\u001b[0m\n",
      "\u001b[0;31mValueError\u001b[0m: regplot inputs must be 1d"
     ]
    }
   ],
   "source": [
    "sns.regplot(y_test,predict)"
   ]
  },
  {
   "cell_type": "code",
   "execution_count": 17,
   "metadata": {},
   "outputs": [
    {
     "data": {
      "text/plain": [
       "0.22717466989266502"
      ]
     },
     "execution_count": 17,
     "metadata": {},
     "output_type": "execute_result"
    }
   ],
   "source": [
    "rmse(y_test, predict)"
   ]
  },
  {
   "cell_type": "code",
   "execution_count": 24,
   "metadata": {},
   "outputs": [
    {
     "data": {
      "text/plain": [
       "<AxesSubplot:xlabel='NPWD2451'>"
      ]
     },
     "execution_count": 24,
     "metadata": {},
     "output_type": "execute_result"
    },
    {
     "data": {
      "image/png": "[encoded data removed]",
      "text/plain": [
       "<Figure size 432x288 with 1 Axes>"
      ]
     },
     "metadata": {
      "needs_background": "light"
     },
     "output_type": "display_data"
    }
   ],
   "source": [
    "sns.regplot(y_test.iloc[:,3],predict[:,3])"
   ]
  },
  {
   "cell_type": "code",
   "execution_count": 137,
   "metadata": {},
   "outputs": [
    {
     "data": {
      "text/plain": [
       "17.309647783524213"
      ]
     },
     "execution_count": 137,
     "metadata": {},
     "output_type": "execute_result"
    }
   ],
   "source": [
    "np.sum((y_test.iloc[:,0] - predict[:,0])**2)"
   ]
  },
  {
   "cell_type": "code",
   "execution_count": 25,
   "metadata": {},
   "outputs": [
    {
     "name": "stdout",
     "output_type": "stream",
     "text": [
      "0.03598544125133828\n"
     ]
    }
   ],
   "source": [
    "from metrics import rmse\n",
    "err = []\n",
    "for i in range(len(power_ids)):\n",
    "    err.append(np.mean((y_test.iloc[:,i] - predict[:,i])**2)/ np.mean(predict[:,i]))\n",
    "    \n",
    "err = np.sqrt(1/33 * np.mean(err))\n",
    "print(err)\n"
   ]
  },
  {
   "cell_type": "code",
   "execution_count": 174,
   "metadata": {},
   "outputs": [
    {
     "data": {
      "text/plain": [
       "0.08690738876308982"
      ]
     },
     "execution_count": 174,
     "metadata": {},
     "output_type": "execute_result"
    }
   ],
   "source": [
    "np.sqrt(np.mean((y_test.iloc[:,0] - predict[:,0])**2) / np.mean(predict[:,0]))"
   ]
  }
 ],
 "metadata": {
  "deepnote_execution_queue": [],
  "deepnote_notebook_id": "b8a79039-badf-4904-a089-377e2dff3def",
  "kernelspec": {
   "display_name": "Python 3",
   "language": "python",
   "name": "python3"
  },
  "language_info": {
   "codemirror_mode": {
    "name": "ipython",
    "version": 3
   },
   "file_extension": ".py",
   "mimetype": "text/x-python",
   "name": "python",
   "nbconvert_exporter": "python",
   "pygments_lexer": "ipython3",
   "version": "3.8.3"
  }
 },
 "nbformat": 4,
 "nbformat_minor": 4
}
